{
  "nbformat": 4,
  "nbformat_minor": 0,
  "metadata": {
    "colab": {
      "provenance": []
    },
    "kernelspec": {
      "name": "python3",
      "display_name": "Python 3"
    },
    "language_info": {
      "name": "python"
    }
  },
  "cells": [
    {
      "cell_type": "code",
      "execution_count": 10,
      "metadata": {
        "colab": {
          "base_uri": "https://localhost:8080/"
        },
        "id": "YfaEvI8Sp7j8",
        "outputId": "172235b9-c7ad-497e-dd6c-7f308453d35a"
      },
      "outputs": [
        {
          "output_type": "stream",
          "name": "stdout",
          "text": [
            "O retorno da imagem é : http://mars.jpl.nasa.gov/msl-raw-images/msss/00800/mrdi/0800MD0003410000103658I01_DXXX.jpg\n"
          ]
        }
      ],
      "source": [
        "import requests\n",
        "\n",
        "api_key = \"cFTrCeeFZC8ZrclYt3lZshyP5FbdxwyAJ6sJW8NU\"\n",
        "name_camera = \"mardi\"\n",
        "birthdate = \"1981-03-26\"\n",
        "url = f\"https://api.nasa.gov/mars-photos/api/v1/rovers/curiosity/photos?earth_date=birthdate&sol=800&camera={name_camera}&api_key={api_key}\"\n",
        "\n",
        "result = requests.get(url)\n",
        "\n",
        "if result.status_code == 200:\n",
        "  dataPhoto = result.json()\n",
        "\n",
        "  photos = dataPhoto[\"photos\"]\n",
        "  if len(photos) > 0:\n",
        "    photo = photos[0]\n",
        "    img = photo[\"img_src\"]\n",
        "\n",
        "    print(f\"O retorno da imagem é : {img}\")\n",
        "  else:\n",
        "    print(\"Imagem não encontrada\")\n",
        "else:\n",
        "  print(\"Erro desconhecido\")\n",
        "\n"
      ]
    }
  ]
}